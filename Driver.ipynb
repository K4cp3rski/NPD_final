{
 "cells": [
  {
   "cell_type": "markdown",
   "id": "50854fd1-fbe3-401c-b519-e7bbac244e8d",
   "metadata": {},
   "source": [
    "This notebook is a driver program for \\_______ _(Insert name here)_ library"
   ]
  },
  {
   "cell_type": "code",
   "execution_count": 7,
   "id": "d0b9f12d-ef82-4b12-a353-0375c9043a6e",
   "metadata": {},
   "outputs": [],
   "source": [
    "import taxes.download as t"
   ]
  },
  {
   "cell_type": "code",
   "execution_count": 10,
   "id": "b46650ad-f972-4550-bcb9-c5bddb014275",
   "metadata": {},
   "outputs": [
    {
     "name": "stdout",
     "output_type": "stream",
     "text": [
      "Downloading file: 20200214_Gminy_za_2019.xlsx\n",
      "/Users/k4cp3rskiii/Library/Mobile Documents/com~apple~CloudDocs/MISMaP/NPD_Final/NPD_final/data\n",
      "20200214_Gminy_za_2019.xlsx downloaded!\n",
      "\n",
      "Downloading file: 20200214_Powiaty_za_2019.xlsx\n",
      "/Users/k4cp3rskiii/Library/Mobile Documents/com~apple~CloudDocs/MISMaP/NPD_Final/NPD_final/data\n",
      "20200214_Powiaty_za_2019.xlsx downloaded!\n",
      "\n",
      "Downloading file: 20200214_Miasta_NPP_za_2019.xlsx\n",
      "/Users/k4cp3rskiii/Library/Mobile Documents/com~apple~CloudDocs/MISMaP/NPD_Final/NPD_final/data\n",
      "20200214_Miasta_NPP_za_2019.xlsx downloaded!\n",
      "\n",
      "Downloading file: 20200214_Gornoslasko_Zaglebiowska_Metropolia.xlsx\n",
      "/Users/k4cp3rskiii/Library/Mobile Documents/com~apple~CloudDocs/MISMaP/NPD_Final/NPD_final/data\n",
      "20200214_Gornoslasko_Zaglebiowska_Metropolia.xlsx downloaded!\n",
      "\n",
      "Downloading file: 20200214_Wojewodztwa_za_2019.xlsx\n",
      "/Users/k4cp3rskiii/Library/Mobile Documents/com~apple~CloudDocs/MISMaP/NPD_Final/NPD_final/data\n",
      "20200214_Wojewodztwa_za_2019.xlsx downloaded!\n",
      "\n",
      "All sheets downloaded!\n",
      "(['https://www.gov.pl/attachment/6594af94-cd1e-49fb-9149-99fd663aef25', 'https://www.gov.pl/attachment/5f2abc44-6a7e-4b73-8999-696920252efc', 'https://www.gov.pl/attachment/141da745-800d-44c5-ac97-e90c4cbd5e11', 'https://www.gov.pl/attachment/12150aff-d70e-412b-afdc-2bc5341dc823', 'https://www.gov.pl/attachment/141eeb3c-dedc-4491-b0bf-895587824eff'], ['20200214_Gminy_za_2019.xlsx', '20200214_Powiaty_za_2019.xlsx', '20200214_Miasta_NPP_za_2019.xlsx', '20200214_Gornoslasko_Zaglebiowska_Metropolia.xlsx', '20200214_Wojewodztwa_za_2019.xlsx'])\n"
     ]
    }
   ],
   "source": [
    "# getting all video links \n",
    "sheets = t.get_sheet_links_names(2019) \n",
    "\n",
    "t.download_sheet_series(sheets)\n",
    "\n",
    "print(sheets)"
   ]
  },
  {
   "cell_type": "code",
   "execution_count": null,
   "id": "e188dc60-2d24-4e42-86a5-f1ab0827698a",
   "metadata": {},
   "outputs": [],
   "source": []
  },
  {
   "cell_type": "code",
   "execution_count": null,
   "id": "b6678f6a-f67e-40d3-872c-a8ccc56b7499",
   "metadata": {},
   "outputs": [],
   "source": []
  }
 ],
 "metadata": {
  "kernelspec": {
   "display_name": "Python 3 (ipykernel)",
   "language": "python",
   "name": "python3"
  },
  "language_info": {
   "codemirror_mode": {
    "name": "ipython",
    "version": 3
   },
   "file_extension": ".py",
   "mimetype": "text/x-python",
   "name": "python",
   "nbconvert_exporter": "python",
   "pygments_lexer": "ipython3",
   "version": "3.9.7"
  },
  "toc-autonumbering": false,
  "toc-showcode": false,
  "toc-showmarkdowntxt": false,
  "toc-showtags": false
 },
 "nbformat": 4,
 "nbformat_minor": 5
}
