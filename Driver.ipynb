{
 "cells": [
  {
   "cell_type": "markdown",
   "id": "50854fd1-fbe3-401c-b519-e7bbac244e8d",
   "metadata": {},
   "source": [
    "This notebook is a driver program for \\_______ _(Insert name here)_ library"
   ]
  },
  {
   "cell_type": "code",
   "execution_count": 6,
   "id": "d0b9f12d-ef82-4b12-a353-0375c9043a6e",
   "metadata": {},
   "outputs": [],
   "source": [
    "import taxes.download as t"
   ]
  },
  {
   "cell_type": "code",
   "execution_count": 7,
   "id": "b46650ad-f972-4550-bcb9-c5bddb014275",
   "metadata": {},
   "outputs": [
    {
     "name": "stdout",
     "output_type": "stream",
     "text": [
      "Downloading file: 20200214_Gminy_za_2019.xlsx\n",
      "/Users/k4cp3rskiii/Library/Mobile Documents/com~apple~CloudDocs/MISMaP/NPD_Final/NPD_final/data\n",
      "20200214_Gminy_za_2019.xlsx downloaded!\n",
      "\n",
      "Downloading file: 20200214_Powiaty_za_2019.xlsx\n",
      "/Users/k4cp3rskiii/Library/Mobile Documents/com~apple~CloudDocs/MISMaP/NPD_Final/NPD_final/data\n",
      "20200214_Powiaty_za_2019.xlsx downloaded!\n",
      "\n",
      "Downloading file: 20200214_Miasta_NPP_za_2019.xlsx\n",
      "/Users/k4cp3rskiii/Library/Mobile Documents/com~apple~CloudDocs/MISMaP/NPD_Final/NPD_final/data\n",
      "20200214_Miasta_NPP_za_2019.xlsx downloaded!\n",
      "\n",
      "Downloading file: 20200214_Gornoslasko_Zaglebiowska_Metropolia.xlsx\n",
      "/Users/k4cp3rskiii/Library/Mobile Documents/com~apple~CloudDocs/MISMaP/NPD_Final/NPD_final/data\n",
      "20200214_Gornoslasko_Zaglebiowska_Metropolia.xlsx downloaded!\n",
      "\n",
      "Downloading file: 20200214_Wojewodztwa_za_2019.xlsx\n",
      "/Users/k4cp3rskiii/Library/Mobile Documents/com~apple~CloudDocs/MISMaP/NPD_Final/NPD_final/data\n",
      "20200214_Wojewodztwa_za_2019.xlsx downloaded!\n",
      "\n",
      "All sheets downloaded!\n"
     ]
    }
   ],
   "source": [
    "# getting all video links \n",
    "sheets = t.get_sheet_links_names() \n",
    "\n",
    "t.download_sheet_series(sheets)\n",
    "\n",
    "# print(sheets)"
   ]
  },
  {
   "cell_type": "code",
   "execution_count": null,
   "id": "e188dc60-2d24-4e42-86a5-f1ab0827698a",
   "metadata": {},
   "outputs": [],
   "source": []
  }
 ],
 "metadata": {
  "kernelspec": {
   "display_name": "Python 3 (ipykernel)",
   "language": "python",
   "name": "python3"
  },
  "language_info": {
   "codemirror_mode": {
    "name": "ipython",
    "version": 3
   },
   "file_extension": ".py",
   "mimetype": "text/x-python",
   "name": "python",
   "nbconvert_exporter": "python",
   "pygments_lexer": "ipython3",
   "version": "3.9.7"
  },
  "toc-autonumbering": false,
  "toc-showcode": false,
  "toc-showmarkdowntxt": false,
  "toc-showtags": false
 },
 "nbformat": 4,
 "nbformat_minor": 5
}
