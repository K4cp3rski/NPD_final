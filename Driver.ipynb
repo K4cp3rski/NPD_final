{
 "cells": [
  {
   "cell_type": "markdown",
   "id": "50854fd1-fbe3-401c-b519-e7bbac244e8d",
   "metadata": {
    "tags": []
   },
   "source": [
    "# _Taxes_ library driver program"
   ]
  },
  {
   "cell_type": "markdown",
   "id": "b3ed4030-6c86-466d-84f3-667b776907e4",
   "metadata": {
    "tags": []
   },
   "source": [
    "#### Technical imports"
   ]
  },
  {
   "cell_type": "code",
   "execution_count": 89,
   "id": "d0b9f12d-ef82-4b12-a353-0375c9043a6e",
   "metadata": {},
   "outputs": [
    {
     "name": "stdout",
     "output_type": "stream",
     "text": [
      "The autoreload extension is already loaded. To reload it, use:\n",
      "  %reload_ext autoreload\n"
     ]
    }
   ],
   "source": [
    "%load_ext autoreload\n",
    "%autoreload 2\n",
    "\n",
    "from taxes.download import get_sheet_links_names, download_sheet_series, get_gus_stats\n",
    "from taxes.loading import dload_to_df_list\n",
    "from taxes.processing import get_stats_gus\n",
    "import pandas as pd\n",
    "import numpy as np\n",
    "import pathlib\n",
    "import re\n",
    "from colorama import Fore, Style"
   ]
  },
  {
   "cell_type": "markdown",
   "id": "242c24e4-5458-4718-9555-e86363bed902",
   "metadata": {
    "tags": []
   },
   "source": [
    "### Implementation"
   ]
  },
  {
   "cell_type": "markdown",
   "id": "31024377-8468-4849-9d76-03f316796fc5",
   "metadata": {},
   "source": [
    "W tej komórce jest już zastosowana funkcja, która łączy wszystkie te, które są poniżej."
   ]
  },
  {
   "cell_type": "code",
   "execution_count": 4,
   "id": "5b6c9349-3194-4a27-b33d-1fc6e69906a5",
   "metadata": {},
   "outputs": [
    {
     "name": "stdout",
     "output_type": "stream",
     "text": [
      "\u001b[32mBeginning download...\n",
      "\u001b[0m\n",
      "Downloading file: 20200214_Gminy_za_2019.xlsx\n",
      "\u001b[36m20200214_Gminy_za_2019.xlsx downloaded!\n",
      "\n",
      "\u001b[0m\n",
      "Downloading file: 20200214_Powiaty_za_2019.xlsx\n",
      "\u001b[36m20200214_Powiaty_za_2019.xlsx downloaded!\n",
      "\n",
      "\u001b[0m\n",
      "Downloading file: 20200214_Miasta_NPP_za_2019.xlsx\n",
      "\u001b[36m20200214_Miasta_NPP_za_2019.xlsx downloaded!\n",
      "\n",
      "\u001b[0m\n",
      "Downloading file: 20200214_Gornoslasko_Zaglebiowska_Metropolia.xlsx\n",
      "\u001b[36m20200214_Gornoslasko_Zaglebiowska_Metropolia.xlsx downloaded!\n",
      "\n",
      "\u001b[0m\n",
      "Downloading file: 20200214_Wojewodztwa_za_2019.xlsx\n",
      "\u001b[36m20200214_Wojewodztwa_za_2019.xlsx downloaded!\n",
      "\n",
      "\u001b[0m\n",
      "\u001b[32mAll sheets downloaded!\n",
      "\u001b[0m\n",
      "Downloading file: 20210215_Gminy_2_za_2020.xlsx\n",
      "\u001b[36m20210215_Gminy_2_za_2020.xlsx downloaded!\n",
      "\n",
      "\u001b[0m\n",
      "Downloading file: 20210211_Powiaty_za_2020.xlsx\n",
      "\u001b[36m20210211_Powiaty_za_2020.xlsx downloaded!\n",
      "\n",
      "\u001b[0m\n",
      "Downloading file: 20210215_Miasta_NPP_2_za_2020.xlsx\n",
      "\u001b[36m20210215_Miasta_NPP_2_za_2020.xlsx downloaded!\n",
      "\n",
      "\u001b[0m\n",
      "Downloading file: 20210211_Metropolia_2020.xlsx\n",
      "\u001b[36m20210211_Metropolia_2020.xlsx downloaded!\n",
      "\n",
      "\u001b[0m\n",
      "Downloading file: 20210211_Wojewodztwa_za_2020.xlsx\n",
      "\u001b[36m20210211_Wojewodztwa_za_2020.xlsx downloaded!\n",
      "\n",
      "\u001b[0m\n",
      "\u001b[32mAll sheets downloaded!\n",
      "\u001b[0m\n",
      "Downloading file: ludnosc.stan_i_struktura_31.12.2020.zip\n",
      "\u001b[36mludnosc.stan_i_struktura_31.12.2020.zip downloaded!\n",
      "\n",
      "\u001b[0m\n",
      "\u001b[32mDownload ended.\n",
      "\n",
      "\u001b[0m\u001b[36mBeginning preprocessing...\n",
      "\u001b[0m\n",
      "\u001b[36mEnded preprocessing!\u001b[0m\n"
     ]
    }
   ],
   "source": [
    "years = [2019, 2020]\n",
    "df_dict, gus_zip = dload_to_df_list(years)"
   ]
  },
  {
   "cell_type": "markdown",
   "id": "69774285-3250-4903-ab16-1e7e1317e518",
   "metadata": {
    "tags": []
   },
   "source": [
    "### Dev"
   ]
  },
  {
   "cell_type": "markdown",
   "id": "6317c2f7-1141-4368-85b5-33500f851d81",
   "metadata": {
    "tags": []
   },
   "source": [
    "#### Side notes:"
   ]
  },
  {
   "cell_type": "markdown",
   "id": "7b25f32d-4402-4a6e-8a62-180518bc9649",
   "metadata": {},
   "source": [
    "To będie funkcją, która przyporządkowuje nazwę pliku typowi JST jaki opisuje.\n",
    "Uwaga! W pliku `Miasta_NPP` połowa rekordów jest dla cechy `powiat` w miastach, więc trzeba ją wywalić do df z powiatami."
   ]
  },
  {
   "cell_type": "markdown",
   "id": "6e52d59c-01fc-4bbc-821f-084444e78bf4",
   "metadata": {},
   "source": [
    "Interesują nas tylko tabele:\n",
    "* tabela3.xls -> Województwa\n",
    "* tabela6.xls -> Powiaty\n",
    "* tabela12.xls -> Gminy"
   ]
  },
  {
   "cell_type": "code",
   "execution_count": 5,
   "id": "d55876fa-0d4e-4740-98ad-fde74138879e",
   "metadata": {},
   "outputs": [
    {
     "name": "stdout",
     "output_type": "stream",
     "text": [
      "   WK  PK  GK GT JST_code    Nazwa JST   województwo         powiat  DZIAŁ  \\\n",
      "0  02  01  01  1  0201011  BOLESŁAWIEC  dolnośląskie  bolesławiecki    756   \n",
      "\n",
      "   ROZDZIAŁ  PARAGRAF  WPLYWY_RAW  Dochody_Final  \n",
      "0     75621        10    40456699       40456699  \n"
     ]
    }
   ],
   "source": [
    "powiaty = df_dict[2020][\"Gminy\"]\n",
    "ind = powiaty.loc[powiaty[\"JST_code\"] == \"0201011\"]\n",
    "print(ind)\n",
    "\n",
    "# print(powiaty)"
   ]
  },
  {
   "cell_type": "code",
   "execution_count": 92,
   "id": "246aebfc-162d-4908-b96b-44cd6a2f1229",
   "metadata": {},
   "outputs": [],
   "source": [
    "stats_out = get_stats_gus(gus_zip, verb=0, proc_working=0.8)"
   ]
  },
  {
   "cell_type": "code",
   "execution_count": 95,
   "id": "2f3ad51b-c155-4fe8-83e9-2ae3b547dff8",
   "metadata": {
    "collapsed": true,
    "jupyter": {
     "outputs_hidden": true
    },
    "tags": []
   },
   "outputs": [
    {
     "data": {
      "text/plain": [
       "{'Powiat m. Jelenia Góra': {'working_age': 43799,\n",
       "  'post_working_age': 23049,\n",
       "  'tot_taxed': 58088,\n",
       "  'work_proc': 75.40111554882247,\n",
       "  'post_proc': 39.679451866134144},\n",
       " 'Powiat m. Legnica': {'working_age': 57335,\n",
       "  'post_working_age': 24769,\n",
       "  'tot_taxed': 70637,\n",
       "  'work_proc': 81.16850942140805,\n",
       "  'post_proc': 35.06519246287356},\n",
       " 'Powiat m. Wrocław': {'working_age': 372138,\n",
       "  'post_working_age': 159195,\n",
       "  'tot_taxed': 456905,\n",
       "  'work_proc': 81.44756568652127,\n",
       "  'post_proc': 34.84203499633403},\n",
       " 'Powiat m. Wałbrzych': {'working_age': 63204,\n",
       "  'post_working_age': 30662,\n",
       "  'tot_taxed': 81225,\n",
       "  'work_proc': 77.8134810710988,\n",
       "  'post_proc': 37.74946137273007},\n",
       " 'Powiat bolesławiecki': {'working_age': 53992,\n",
       "  'post_working_age': 19965,\n",
       "  'tot_taxed': 63158,\n",
       "  'work_proc': 85.4871908546819,\n",
       "  'post_proc': 31.61119731467114},\n",
       " 'Powiat dzierżoniowski': {'working_age': 58574,\n",
       "  'post_working_age': 25879,\n",
       "  'tot_taxed': 72738,\n",
       "  'work_proc': 80.52737221259865,\n",
       "  'post_proc': 35.578377189364566},\n",
       " 'Powiat głogowski': {'working_age': 51709,\n",
       "  'post_working_age': 20798,\n",
       "  'tot_taxed': 62165,\n",
       "  'work_proc': 83.18024611919891,\n",
       "  'post_proc': 33.45612482908389},\n",
       " 'Powiat górowski': {'working_age': 20946,\n",
       "  'post_working_age': 7452,\n",
       "  'tot_taxed': 24208,\n",
       "  'work_proc': 86.52511566424323,\n",
       "  'post_proc': 30.783212161269002},\n",
       " 'Powiat jaworski': {'working_age': 29740,\n",
       "  'post_working_age': 11734,\n",
       "  'tot_taxed': 35526,\n",
       "  'work_proc': 83.71333671114114,\n",
       "  'post_proc': 33.02933063108709},\n",
       " 'Powiat jeleniogórski': {'working_age': 38097,\n",
       "  'post_working_age': 15330,\n",
       "  'tot_taxed': 45807,\n",
       "  'work_proc': 83.16851136289213,\n",
       "  'post_proc': 33.46650075316},\n",
       " 'Powiat kamiennogórski': {'working_age': 25703,\n",
       "  'post_working_age': 10351,\n",
       "  'tot_taxed': 30913,\n",
       "  'work_proc': 83.14624915084269,\n",
       "  'post_proc': 33.48429463332578},\n",
       " 'Powiat kłodzki': {'working_age': 92001,\n",
       "  'post_working_age': 40561,\n",
       "  'tot_taxed': 114161,\n",
       "  'work_proc': 80.58881754714832,\n",
       "  'post_proc': 35.529646726990826},\n",
       " 'Powiat legnicki': {'working_age': 33357,\n",
       "  'post_working_age': 11803,\n",
       "  'tot_taxed': 38488,\n",
       "  'work_proc': 86.66857202244856,\n",
       "  'post_proc': 30.666701309499068},\n",
       " 'Powiat lubański': {'working_age': 32376,\n",
       "  'post_working_age': 12973,\n",
       "  'tot_taxed': 38873,\n",
       "  'work_proc': 83.28659995369536,\n",
       "  'post_proc': 33.37277802073418},\n",
       " 'Powiat lubiński': {'working_age': 61295,\n",
       "  'post_working_age': 25943,\n",
       "  'tot_taxed': 74979,\n",
       "  'work_proc': 81.74955654249857,\n",
       "  'post_proc': 34.600354766001146},\n",
       " 'Powiat lwówecki': {'working_age': 27535,\n",
       "  'post_working_age': 10628,\n",
       "  'tot_taxed': 32656,\n",
       "  'work_proc': 84.31834884860363,\n",
       "  'post_proc': 32.545320921117096},\n",
       " 'Powiat milicki': {'working_age': 21556,\n",
       "  'post_working_age': 8018,\n",
       "  'tot_taxed': 25262,\n",
       "  'work_proc': 85.32974427994617,\n",
       "  'post_proc': 31.739371387855275},\n",
       " 'Powiat oleśnicki': {'working_age': 64568,\n",
       "  'post_working_age': 22649,\n",
       "  'tot_taxed': 74303,\n",
       "  'work_proc': 86.89824098623204,\n",
       "  'post_proc': 30.48194554728611},\n",
       " 'Powiat oławski': {'working_age': 45478,\n",
       "  'post_working_age': 16985,\n",
       "  'tot_taxed': 53367,\n",
       "  'work_proc': 85.21745648059662,\n",
       "  'post_proc': 31.826784342383867},\n",
       " 'Powiat polkowicki': {'working_age': 38705,\n",
       "  'post_working_age': 12132,\n",
       "  'tot_taxed': 43096,\n",
       "  'work_proc': 89.81111936142565,\n",
       "  'post_proc': 28.151104510859476},\n",
       " 'Powiat strzeliński': {'working_age': 26040,\n",
       "  'post_working_age': 9664,\n",
       "  'tot_taxed': 30496,\n",
       "  'work_proc': 85.38824763903463,\n",
       "  'post_proc': 31.689401888772302},\n",
       " 'Powiat średzki': {'working_age': 34215,\n",
       "  'post_working_age': 10597,\n",
       "  'tot_taxed': 37969,\n",
       "  'work_proc': 90.11298691037425,\n",
       "  'post_proc': 27.909610471700596},\n",
       " 'Powiat świdnicki': {'working_age': 92352,\n",
       "  'post_working_age': 37846,\n",
       "  'tot_taxed': 111727,\n",
       "  'work_proc': 82.65862325131795,\n",
       "  'post_proc': 33.8736384222256},\n",
       " 'Powiat trzebnicki': {'working_age': 51642,\n",
       "  'post_working_age': 17534,\n",
       "  'tot_taxed': 58847,\n",
       "  'work_proc': 87.75638520230427,\n",
       "  'post_proc': 29.795911431338894},\n",
       " 'Powiat wałbrzyski': {'working_age': 33069,\n",
       "  'post_working_age': 13494,\n",
       "  'tot_taxed': 39949,\n",
       "  'work_proc': 82.77804200355453,\n",
       "  'post_proc': 33.77806703547023},\n",
       " 'Powiat wołowski': {'working_age': 28137,\n",
       "  'post_working_age': 10531,\n",
       "  'tot_taxed': 33040,\n",
       "  'work_proc': 85.16041162227603,\n",
       "  'post_proc': 31.873486682808718},\n",
       " 'Powiat wrocławski': {'working_age': 95224,\n",
       "  'post_working_age': 25333,\n",
       "  'tot_taxed': 101512,\n",
       "  'work_proc': 93.80565844432185,\n",
       "  'post_proc': 24.955670265584367},\n",
       " 'Powiat ząbkowicki': {'working_age': 38651,\n",
       "  'post_working_age': 15509,\n",
       "  'tot_taxed': 46429,\n",
       "  'work_proc': 83.24753925348382,\n",
       "  'post_proc': 33.40369165823085},\n",
       " 'Powiat zgorzelecki': {'working_age': 53443,\n",
       "  'post_working_age': 21014,\n",
       "  'tot_taxed': 63768,\n",
       "  'work_proc': 83.80849328816961,\n",
       "  'post_proc': 32.95383264333208},\n",
       " 'Powiat złotoryjski': {'working_age': 26112,\n",
       "  'post_working_age': 9848,\n",
       "  'tot_taxed': 30737,\n",
       "  'work_proc': 84.95298825519731,\n",
       "  'post_proc': 32.039561440609035}}"
      ]
     },
     "execution_count": 95,
     "metadata": {},
     "output_type": "execute_result"
    }
   ],
   "source": [
    "stats_out[\"Powiaty\"][\"Dolnośląskie\"]"
   ]
  },
  {
   "cell_type": "code",
   "execution_count": null,
   "id": "b6678f6a-f67e-40d3-872c-a8ccc56b7499",
   "metadata": {},
   "outputs": [],
   "source": [
    "# df_1 = df[df[\"Nazwa JST\"] == \"BOLESŁAWIEC\"]\n",
    "# df_1 = df_1[df_1[\"województwo\"] == \"dolnośląskie\"]\n",
    "# df_1"
   ]
  },
  {
   "cell_type": "code",
   "execution_count": 97,
   "id": "fe40a2b3-d848-474d-9b06-7ae8c55cd978",
   "metadata": {
    "collapsed": true,
    "jupyter": {
     "outputs_hidden": true
    },
    "tags": []
   },
   "outputs": [
    {
     "name": "stdout",
     "output_type": "stream",
     "text": [
      "\u001b[1m============================= test session starts ==============================\u001b[0m\n",
      "platform darwin -- Python 3.9.7, pytest-7.0.0, pluggy-1.0.0 -- /Users/k4cp3rskiii/miniforge3/bin/python\n",
      "cachedir: .pytest_cache\n",
      "rootdir: /Users/k4cp3rskiii/Library/Mobile Documents/com~apple~CloudDocs/MISMaP/NPD_Final/NPD_final\n",
      "plugins: anyio-3.5.0\n",
      "collected 9 items                                                              \u001b[0m\n",
      "\n",
      "taxes/tests/test_download.py::test_get_sheet_links_names[2019-res0] \u001b[32mPASSED\u001b[0m\u001b[33m [ 11%]\u001b[0m\n",
      "taxes/tests/test_download.py::test_get_sheet_links_names[2020-res1] \u001b[32mPASSED\u001b[0m\u001b[33m [ 22%]\u001b[0m\n",
      "taxes/tests/test_download.py::test_download_sheet_series[2019-data0-5] \u001b[32mPASSED\u001b[0m\u001b[33m [ 33%]\u001b[0m\n",
      "taxes/tests/test_download.py::test_download_sheet_series[2020-data1-5] \u001b[32mPASSED\u001b[0m\u001b[33m [ 44%]\u001b[0m\n",
      "taxes/tests/test_download.py::test_get_gus_stats \u001b[32mPASSED\u001b[0m\u001b[33m                  [ 55%]\u001b[0m\n",
      "taxes/tests/test_loading.py::test_get_gov_dir[years0] \u001b[32mPASSED\u001b[0m\u001b[33m             [ 66%]\u001b[0m\n",
      "taxes/tests/test_loading.py::test_gov_dir_to_names_dict \u001b[32mPASSED\u001b[0m\u001b[33m           [ 77%]\u001b[0m\n",
      "taxes/tests/test_loading.py::test_names_dict_to_df_dict \u001b[32mPASSED\u001b[0m\u001b[33m           [ 88%]\u001b[0m\n",
      "taxes/tests/test_loading.py::test_dload_to_df_list[years0] \u001b[32mPASSED\u001b[0m\u001b[33m        [100%]\u001b[0m\n",
      "\n",
      "\u001b[33m======================== \u001b[32m9 passed\u001b[0m, \u001b[33m\u001b[1m1 warning\u001b[0m\u001b[33m in 14.99s\u001b[0m\u001b[33m =========================\u001b[0m\n",
      "black....................................................................\u001b[41mFailed\u001b[m\n",
      "\u001b[2m- hook id: black\u001b[m\n",
      "\u001b[2m- files were modified by this hook\u001b[m\n",
      "\n",
      "\u001b[1mreformatted taxes/taxes/processing.py\u001b[0m\n",
      "\n",
      "\u001b[1mAll done! ✨ 🍰 ✨\u001b[0m\n",
      "\u001b[34m\u001b[1m1 file \u001b[0m\u001b[1mreformatted\u001b[0m, \u001b[34m8 files \u001b[0mleft unchanged.\n",
      "\n",
      "flake8...................................................................\u001b[41mFailed\u001b[m\n",
      "\u001b[2m- hook id: flake8\u001b[m\n",
      "\u001b[2m- exit code: 1\u001b[m\n",
      "\n",
      "taxes/taxes/loading.py:3:1: F401 'numpy as np' imported but unused\n",
      "taxes/taxes/loading.py:87:80: E501 line too long (107 > 79 characters)\n",
      "taxes/taxes/loading.py:155:80: E501 line too long (119 > 79 characters)\n",
      "taxes/taxes/processing.py:1:1: F401 'pandas as pd' imported but unused\n",
      "taxes/taxes/processing.py:8:80: E501 line too long (87 > 79 characters)\n",
      "taxes/taxes/processing.py:15:80: E501 line too long (109 > 79 characters)\n",
      "taxes/taxes/processing.py:16:80: E501 line too long (120 > 79 characters)\n",
      "taxes/taxes/processing.py:17:80: E501 line too long (87 > 79 characters)\n",
      "taxes/taxes/processing.py:39:80: E501 line too long (160 > 79 characters)\n",
      "taxes/taxes/processing.py:54:80: E501 line too long (96 > 79 characters)\n",
      "taxes/taxes/processing.py:66:80: E501 line too long (164 > 79 characters)\n",
      "taxes/taxes/processing.py:81:80: E501 line too long (103 > 79 characters)\n",
      "taxes/taxes/processing.py:82:80: E501 line too long (100 > 79 characters)\n",
      "taxes/taxes/processing.py:94:80: E501 line too long (164 > 79 characters)\n",
      "\n",
      "Check JSON...........................................(no files to check)\u001b[46;30mSkipped\u001b[m\n",
      "Check Yaml...............................................................\u001b[42mPassed\u001b[m\n",
      "Check for merge conflicts................................................\u001b[42mPassed\u001b[m\n",
      "Fix End of Files.........................................................\u001b[42mPassed\u001b[m\n",
      "Trim Trailing Whitespace.................................................\u001b[42mPassed\u001b[m\n",
      "Debug Statements (Python)................................................\u001b[42mPassed\u001b[m\n",
      "Mixed line ending........................................................\u001b[42mPassed\u001b[m\n",
      "setup-cfg-fmt............................................................\u001b[42mPassed\u001b[m\n",
      "pyupgrade................................................................\u001b[42mPassed\u001b[m\n",
      "rst ``code`` is two backticks........................(no files to check)\u001b[46;30mSkipped\u001b[m\n",
      "isort....................................................................\u001b[42mPassed\u001b[m\n",
      "pre-commit hook(s) made changes.\n",
      "If you are seeing this message in CI, reproduce locally with: `pre-commit run --all-files`.\n",
      "To run `pre-commit` as part of git workflow, use `pre-commit install`.\n",
      "All changes made by hooks:\n",
      "\u001b[1mdiff --git a/taxes/taxes/processing.py b/taxes/taxes/processing.py\u001b[m\n",
      "\u001b[1mindex 5b03a4d..9456cfe 100644\u001b[m\n",
      "\u001b[1m--- a/taxes/taxes/processing.py\u001b[m\n",
      "\u001b[1m+++ b/taxes/taxes/processing.py\u001b[m\n",
      "\u001b[36m@@ -1,21 +1,24 @@\u001b[m\n",
      " import pandas as pd\u001b[m\n",
      " from colorama import Fore, Style\u001b[m\n",
      " \u001b[m\n",
      "\u001b[32m+\u001b[m\n",
      " def calc_stats(JST, tmp, proc_working, ind):\u001b[m\n",
      "\u001b[31m-    tmp[\"working_age\"]= int(JST.iloc[ind+50][\"Total\"])\u001b[m\n",
      "\u001b[31m-    tmp[\"post_working_age\"] = int(JST.iloc[ind+57][\"Total\"])\u001b[m\n",
      "\u001b[31m-    tmp[\"tot_taxed\"] = int(tmp[\"working_age\"]*proc_working+tmp[\"post_working_age\"])\u001b[m\n",
      "\u001b[31m-    tmp[\"work_proc\"] = tmp[\"working_age\"]/tmp[\"tot_taxed\"]*100\u001b[m\n",
      "\u001b[31m-    tmp[\"post_proc\"] = tmp[\"post_working_age\"]/tmp[\"tot_taxed\"]*100\u001b[m\n",
      "\u001b[32m+\u001b[m\u001b[32m    tmp[\"working_age\"] = int(JST.iloc[ind + 50][\"Total\"])\u001b[m\n",
      "\u001b[32m+\u001b[m\u001b[32m    tmp[\"post_working_age\"] = int(JST.iloc[ind + 57][\"Total\"])\u001b[m\n",
      "\u001b[32m+\u001b[m\u001b[32m    tmp[\"tot_taxed\"] = int(tmp[\"working_age\"] * proc_working + tmp[\"post_working_age\"])\u001b[m\n",
      "\u001b[32m+\u001b[m\u001b[32m    tmp[\"work_proc\"] = tmp[\"working_age\"] / tmp[\"tot_taxed\"] * 100\u001b[m\n",
      "\u001b[32m+\u001b[m\u001b[32m    tmp[\"post_proc\"] = tmp[\"post_working_age\"] / tmp[\"tot_taxed\"] * 100\u001b[m\n",
      "     return tmp\u001b[m\n",
      " \u001b[m\n",
      "\u001b[32m+\u001b[m\n",
      " def calc_stats_woj(JST, tmp, proc_working):\u001b[m\n",
      "\u001b[31m-    tmp[\"working_age\"]= int(JST.loc[JST[\"Wyszczegolnienie\"] == \"Wiek  produkcyjny  \\nWorking age\"][\"Total\"])\u001b[m\n",
      "\u001b[32m+\u001b[m\u001b[32m    tmp[\"working_age\"] = int(JST.loc[JST[\"Wyszczegolnienie\"] == \"Wiek  produkcyjny  \\nWorking age\"][\"Total\"])\u001b[m\n",
      "     tmp[\"post_working_age\"] = int(JST.loc[JST[\"Wyszczegolnienie\"] == \"Wiek poprodukcyjny  \\nPost-working age\"][\"Total\"])\u001b[m\n",
      "\u001b[31m-    tmp[\"tot_taxed\"] = int(tmp[\"working_age\"]*proc_working+tmp[\"post_working_age\"])\u001b[m\n",
      "\u001b[31m-    tmp[\"work_proc\"] = tmp[\"working_age\"]/tmp[\"tot_taxed\"]*100\u001b[m\n",
      "\u001b[31m-    tmp[\"post_proc\"] = tmp[\"post_working_age\"]/tmp[\"tot_taxed\"]*100\u001b[m\n",
      "\u001b[31m-    \u001b[m\n",
      "\u001b[32m+\u001b[m\u001b[32m    tmp[\"tot_taxed\"] = int(tmp[\"working_age\"] * proc_working + tmp[\"post_working_age\"])\u001b[m\n",
      "\u001b[32m+\u001b[m\u001b[32m    tmp[\"work_proc\"] = tmp[\"working_age\"] / tmp[\"tot_taxed\"] * 100\u001b[m\n",
      "\u001b[32m+\u001b[m\u001b[32m    tmp[\"post_proc\"] = tmp[\"post_working_age\"] / tmp[\"tot_taxed\"] * 100\u001b[m\n",
      "\u001b[32m+\u001b[m\n",
      "\u001b[32m+\u001b[m\n",
      " def get_stats_gus(gus_zip, verb=1, proc_working=0.8):\u001b[m\n",
      "     stats = dict.fromkeys(gus_zip.keys())\u001b[m\n",
      "     for category in gus_zip.keys():\u001b[m\n",
      "\u001b[36m@@ -32,7 +35,15 @@\u001b[m \u001b[mdef get_stats_gus(gus_zip, verb=1, proc_working=0.8):\u001b[m\n",
      "                 if verb >= 1:\u001b[m\n",
      "                     print(Fore.CYAN + woj + Style.RESET_ALL)\u001b[m\n",
      "                 if verb >= 2:\u001b[m\n",
      "\u001b[31m-                    print(\"Working age: {}, Post-working age: {}, Total PIT payers: {}\\nWorking age make up: {:.2f}%, Post-working age make up: {:.2f}%\\n\".format(tmp[\"working_age\"], tmp[\"post_working_age\"], tmp[\"tot_taxed\"], tmp[\"work_proc\"], tmp[\"post_proc\"]))\u001b[m\n",
      "\u001b[32m+\u001b[m\u001b[32m                    print(\u001b[m\n",
      "\u001b[32m+\u001b[m\u001b[32m                        \"Working age: {}, Post-working age: {}, Total PIT payers: {}\\nWorking age make up: {:.2f}%, Post-working age make up: {:.2f}%\\n\".format(\u001b[m\n",
      "\u001b[32m+\u001b[m\u001b[32m                            tmp[\"working_age\"],\u001b[m\n",
      "\u001b[32m+\u001b[m\u001b[32m                            tmp[\"post_working_age\"],\u001b[m\n",
      "\u001b[32m+\u001b[m\u001b[32m                            tmp[\"tot_taxed\"],\u001b[m\n",
      "\u001b[32m+\u001b[m\u001b[32m                            tmp[\"work_proc\"],\u001b[m\n",
      "\u001b[32m+\u001b[m\u001b[32m                            tmp[\"post_proc\"],\u001b[m\n",
      "\u001b[32m+\u001b[m\u001b[32m                        )\u001b[m\n",
      "\u001b[32m+\u001b[m\u001b[32m                    )\u001b[m\n",
      "             elif category == \"Powiaty\":\u001b[m\n",
      "                 if verb >= 1:\u001b[m\n",
      "                     print(Fore.RED + category + Style.RESET_ALL)\u001b[m\n",
      "\u001b[36m@@ -51,7 +62,15 @@\u001b[m \u001b[mdef get_stats_gus(gus_zip, verb=1, proc_working=0.8):\u001b[m\n",
      "                     JST = gus_zip[category][woj]\u001b[m\n",
      "                     calc_stats(JST, tmp, proc_working, ind)\u001b[m\n",
      "                     if verb >= 2:\u001b[m\n",
      "\u001b[31m-                        print(\"Working age: {}, Post-working age: {}, Total PIT payers: {}\\nWorking age make up: {:.2f}%, Post-working age make up: {:.2f}%\\n\".format(tmp[\"working_age\"], tmp[\"post_working_age\"], tmp[\"tot_taxed\"], tmp[\"work_proc\"], tmp[\"post_proc\"]))\u001b[m\n",
      "\u001b[32m+\u001b[m\u001b[32m                        print(\u001b[m\n",
      "\u001b[32m+\u001b[m\u001b[32m                            \"Working age: {}, Post-working age: {}, Total PIT payers: {}\\nWorking age make up: {:.2f}%, Post-working age make up: {:.2f}%\\n\".format(\u001b[m\n",
      "\u001b[32m+\u001b[m\u001b[32m                                tmp[\"working_age\"],\u001b[m\n",
      "\u001b[32m+\u001b[m\u001b[32m                                tmp[\"post_working_age\"],\u001b[m\n",
      "\u001b[32m+\u001b[m\u001b[32m                                tmp[\"tot_taxed\"],\u001b[m\n",
      "\u001b[32m+\u001b[m\u001b[32m                                tmp[\"work_proc\"],\u001b[m\n",
      "\u001b[32m+\u001b[m\u001b[32m                                tmp[\"post_proc\"],\u001b[m\n",
      "\u001b[32m+\u001b[m\u001b[32m                            )\u001b[m\n",
      "\u001b[32m+\u001b[m\u001b[32m                        )\u001b[m\n",
      "             else:\u001b[m\n",
      "                 if verb >= 1:\u001b[m\n",
      "                     print(Fore.RED + category + Style.RESET_ALL)\u001b[m\n",
      "\u001b[36m@@ -71,5 +90,13 @@\u001b[m \u001b[mdef get_stats_gus(gus_zip, verb=1, proc_working=0.8):\u001b[m\n",
      "                     JST = gus_zip[category][woj]\u001b[m\n",
      "                     calc_stats(JST, tmp, proc_working, ind)\u001b[m\n",
      "                     if verb >= 2:\u001b[m\n",
      "\u001b[31m-                        print(\"Working age: {}, Post-working age: {}, Total PIT payers: {}\\nWorking age make up: {:.2f}%, Post-working age make up: {:.2f}%\\n\".format(tmp[\"working_age\"], tmp[\"post_working_age\"], tmp[\"tot_taxed\"], tmp[\"work_proc\"], tmp[\"post_proc\"]))\u001b[m\n",
      "\u001b[32m+\u001b[m\u001b[32m                        print(\u001b[m\n",
      "\u001b[32m+\u001b[m\u001b[32m                            \"Working age: {}, Post-working age: {}, Total PIT payers: {}\\nWorking age make up: {:.2f}%, Post-working age make up: {:.2f}%\\n\".format(\u001b[m\n",
      "\u001b[32m+\u001b[m\u001b[32m                                tmp[\"working_age\"],\u001b[m\n",
      "\u001b[32m+\u001b[m\u001b[32m                                tmp[\"post_working_age\"],\u001b[m\n",
      "\u001b[32m+\u001b[m\u001b[32m                                tmp[\"tot_taxed\"],\u001b[m\n",
      "\u001b[32m+\u001b[m\u001b[32m                                tmp[\"work_proc\"],\u001b[m\n",
      "\u001b[32m+\u001b[m\u001b[32m                                tmp[\"post_proc\"],\u001b[m\n",
      "\u001b[32m+\u001b[m\u001b[32m                            )\u001b[m\n",
      "\u001b[32m+\u001b[m\u001b[32m                        )\u001b[m\n",
      "     return stats\u001b[m\n"
     ]
    }
   ],
   "source": [
    "!pytest -vv --disable-warnings\n",
    "!pre-commit run --all --show-diff-on-failure"
   ]
  },
  {
   "cell_type": "code",
   "execution_count": 109,
   "id": "5bc04c9b-1d11-4b92-ba23-6b17aa6fb6f1",
   "metadata": {
    "tags": []
   },
   "outputs": [
    {
     "name": "stdout",
     "output_type": "stream",
     "text": [
      "black....................................................................\u001b[42mPassed\u001b[m\n",
      "flake8...................................................................\u001b[42mPassed\u001b[m\n",
      "Check JSON...........................................(no files to check)\u001b[46;30mSkipped\u001b[m\n",
      "Check Yaml...............................................................\u001b[42mPassed\u001b[m\n",
      "Check for merge conflicts................................................\u001b[42mPassed\u001b[m\n",
      "Fix End of Files.........................................................\u001b[42mPassed\u001b[m\n",
      "Trim Trailing Whitespace.................................................\u001b[42mPassed\u001b[m\n",
      "Debug Statements (Python)................................................\u001b[42mPassed\u001b[m\n",
      "Mixed line ending........................................................\u001b[42mPassed\u001b[m\n",
      "setup-cfg-fmt............................................................\u001b[42mPassed\u001b[m\n",
      "pyupgrade................................................................\u001b[42mPassed\u001b[m\n",
      "rst ``code`` is two backticks........................(no files to check)\u001b[46;30mSkipped\u001b[m\n",
      "isort....................................................................\u001b[42mPassed\u001b[m\n"
     ]
    }
   ],
   "source": [
    "!pre-commit run --all --show-diff-on-failure"
   ]
  },
  {
   "cell_type": "code",
   "execution_count": null,
   "id": "f9ccd83b-f229-4244-9fb4-13b11a695cae",
   "metadata": {},
   "outputs": [],
   "source": []
  }
 ],
 "metadata": {
  "kernelspec": {
   "display_name": "Python 3 (ipykernel)",
   "language": "python",
   "name": "python3"
  },
  "language_info": {
   "codemirror_mode": {
    "name": "ipython",
    "version": 3
   },
   "file_extension": ".py",
   "mimetype": "text/x-python",
   "name": "python",
   "nbconvert_exporter": "python",
   "pygments_lexer": "ipython3",
   "version": "3.9.7"
  },
  "toc-autonumbering": false,
  "toc-showcode": false,
  "toc-showmarkdowntxt": false,
  "toc-showtags": false
 },
 "nbformat": 4,
 "nbformat_minor": 5
}
