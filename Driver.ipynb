{
 "cells": [
  {
   "cell_type": "markdown",
   "id": "50854fd1-fbe3-401c-b519-e7bbac244e8d",
   "metadata": {
    "tags": []
   },
   "source": [
    "# _Taxes_ library driver program"
   ]
  },
  {
   "cell_type": "markdown",
   "id": "b3ed4030-6c86-466d-84f3-667b776907e4",
   "metadata": {
    "tags": []
   },
   "source": [
    "#### Technical imports"
   ]
  },
  {
   "cell_type": "code",
   "execution_count": 69,
   "id": "d0b9f12d-ef82-4b12-a353-0375c9043a6e",
   "metadata": {},
   "outputs": [
    {
     "name": "stdout",
     "output_type": "stream",
     "text": [
      "The autoreload extension is already loaded. To reload it, use:\n",
      "  %reload_ext autoreload\n"
     ]
    }
   ],
   "source": [
    "%load_ext autoreload\n",
    "%autoreload 2\n",
    "\n",
    "from taxes.download import get_sheet_links_names, download_sheet_series, get_gus_stats\n",
    "from taxes.loading import dload_to_df_list\n",
    "import pandas as pd\n",
    "import pathlib\n",
    "import re"
   ]
  },
  {
   "cell_type": "markdown",
   "id": "242c24e4-5458-4718-9555-e86363bed902",
   "metadata": {
    "tags": []
   },
   "source": [
    "### Implementation"
   ]
  },
  {
   "cell_type": "markdown",
   "id": "31024377-8468-4849-9d76-03f316796fc5",
   "metadata": {},
   "source": [
    "W tej komórce jest już zastosowana funkcja, która łączy wszystkie te, które są poniżej."
   ]
  },
  {
   "cell_type": "code",
   "execution_count": 51,
   "id": "5b6c9349-3194-4a27-b33d-1fc6e69906a5",
   "metadata": {},
   "outputs": [
    {
     "name": "stdout",
     "output_type": "stream",
     "text": [
      "\u001b[32mBeginning download...\n",
      "\u001b[0m\n",
      "Downloading file: 20200214_Gminy_za_2019.xlsx\n",
      "\u001b[36m20200214_Gminy_za_2019.xlsx downloaded!\n",
      "\n",
      "\u001b[0m\n",
      "Downloading file: 20200214_Powiaty_za_2019.xlsx\n",
      "\u001b[36m20200214_Powiaty_za_2019.xlsx downloaded!\n",
      "\n",
      "\u001b[0m\n",
      "Downloading file: 20200214_Miasta_NPP_za_2019.xlsx\n",
      "\u001b[36m20200214_Miasta_NPP_za_2019.xlsx downloaded!\n",
      "\n",
      "\u001b[0m\n",
      "Downloading file: 20200214_Gornoslasko_Zaglebiowska_Metropolia.xlsx\n",
      "\u001b[36m20200214_Gornoslasko_Zaglebiowska_Metropolia.xlsx downloaded!\n",
      "\n",
      "\u001b[0m\n",
      "Downloading file: 20200214_Wojewodztwa_za_2019.xlsx\n",
      "\u001b[36m20200214_Wojewodztwa_za_2019.xlsx downloaded!\n",
      "\n",
      "\u001b[0m\n",
      "\u001b[32mAll sheets downloaded!\n",
      "\u001b[0m\n",
      "Downloading file: 20210215_Gminy_2_za_2020.xlsx\n",
      "\u001b[36m20210215_Gminy_2_za_2020.xlsx downloaded!\n",
      "\n",
      "\u001b[0m\n",
      "Downloading file: 20210211_Powiaty_za_2020.xlsx\n",
      "\u001b[36m20210211_Powiaty_za_2020.xlsx downloaded!\n",
      "\n",
      "\u001b[0m\n",
      "Downloading file: 20210215_Miasta_NPP_2_za_2020.xlsx\n",
      "\u001b[36m20210215_Miasta_NPP_2_za_2020.xlsx downloaded!\n",
      "\n",
      "\u001b[0m\n",
      "Downloading file: 20210211_Metropolia_2020.xlsx\n",
      "\u001b[36m20210211_Metropolia_2020.xlsx downloaded!\n",
      "\n",
      "\u001b[0m\n",
      "Downloading file: 20210211_Wojewodztwa_za_2020.xlsx\n",
      "\u001b[36m20210211_Wojewodztwa_za_2020.xlsx downloaded!\n",
      "\n",
      "\u001b[0m\n",
      "\u001b[32mAll sheets downloaded!\n",
      "\u001b[0m\n",
      "Downloading file: ludnosc.stan_i_struktura_31.12.2020.zip\n",
      "\u001b[36mludnosc.stan_i_struktura_31.12.2020.zip downloaded!\n",
      "\n",
      "\u001b[0m\n",
      "\u001b[32mDownload ended.\n",
      "\n",
      "\u001b[0m\u001b[36mBeginning preprocessing...\n",
      "\u001b[0m\n",
      "\u001b[36mEnded preprocessing!\u001b[0m\n"
     ]
    }
   ],
   "source": [
    "years = [2019, 2020]\n",
    "df_dict, gus_zip = dload_to_df_list(years)"
   ]
  },
  {
   "cell_type": "markdown",
   "id": "69774285-3250-4903-ab16-1e7e1317e518",
   "metadata": {
    "tags": []
   },
   "source": [
    "### Dev"
   ]
  },
  {
   "cell_type": "markdown",
   "id": "6317c2f7-1141-4368-85b5-33500f851d81",
   "metadata": {
    "tags": []
   },
   "source": [
    "#### Side notes:"
   ]
  },
  {
   "cell_type": "markdown",
   "id": "7b25f32d-4402-4a6e-8a62-180518bc9649",
   "metadata": {},
   "source": [
    "To będie funkcją, która przyporządkowuje nazwę pliku typowi JST jaki opisuje.\n",
    "Uwaga! W pliku `Miasta_NPP` połowa rekordów jest dla cechy `powiat` w miastach, więc trzeba ją wywalić do df z powiatami."
   ]
  },
  {
   "cell_type": "markdown",
   "id": "6e52d59c-01fc-4bbc-821f-084444e78bf4",
   "metadata": {},
   "source": [
    "Interesują nas tylko tabele:\n",
    "* tabela3.xls -> Województwa\n",
    "* tabela6.xls -> Powiaty\n",
    "* tabela12.xls -> Gminy"
   ]
  },
  {
   "cell_type": "code",
   "execution_count": null,
   "id": "b6678f6a-f67e-40d3-872c-a8ccc56b7499",
   "metadata": {},
   "outputs": [],
   "source": [
    "# df_1 = df[df[\"Nazwa JST\"] == \"BOLESŁAWIEC\"]\n",
    "# df_1 = df_1[df_1[\"województwo\"] == \"dolnośląskie\"]\n",
    "# df_1"
   ]
  },
  {
   "cell_type": "code",
   "execution_count": 68,
   "id": "fe40a2b3-d848-474d-9b06-7ae8c55cd978",
   "metadata": {},
   "outputs": [
    {
     "name": "stdout",
     "output_type": "stream",
     "text": [
      "\u001b[1m============================= test session starts ==============================\u001b[0m\n",
      "platform darwin -- Python 3.9.7, pytest-7.0.0, pluggy-1.0.0 -- /Users/k4cp3rskiii/miniforge3/bin/python\n",
      "cachedir: .pytest_cache\n",
      "rootdir: /Users/k4cp3rskiii/Library/Mobile Documents/com~apple~CloudDocs/MISMaP/NPD_Final/NPD_final\n",
      "plugins: anyio-3.5.0\n",
      "collected 9 items                                                              \u001b[0m\n",
      "\n",
      "taxes/tests/test_download.py::test_get_sheet_links_names[2019-res0] \u001b[32mPASSED\u001b[0m\u001b[33m [ 11%]\u001b[0m\n",
      "taxes/tests/test_download.py::test_get_sheet_links_names[2020-res1] \u001b[32mPASSED\u001b[0m\u001b[33m [ 22%]\u001b[0m\n",
      "taxes/tests/test_download.py::test_download_sheet_series[2019-data0-5] \u001b[32mPASSED\u001b[0m\u001b[33m [ 33%]\u001b[0m\n",
      "taxes/tests/test_download.py::test_download_sheet_series[2020-data1-5] \u001b[32mPASSED\u001b[0m\u001b[33m [ 44%]\u001b[0m\n",
      "taxes/tests/test_download.py::test_get_gus_stats \u001b[32mPASSED\u001b[0m\u001b[33m                  [ 55%]\u001b[0m\n",
      "taxes/tests/test_preprocessing.py::test_get_gov_dir[years0] \u001b[32mPASSED\u001b[0m\u001b[33m       [ 66%]\u001b[0m\n",
      "taxes/tests/test_preprocessing.py::test_gov_dir_to_names_dict \u001b[32mPASSED\u001b[0m\u001b[33m     [ 77%]\u001b[0m\n",
      "taxes/tests/test_preprocessing.py::test_names_dict_to_df_dict \u001b[32mPASSED\u001b[0m\u001b[33m     [ 88%]\u001b[0m\n",
      "taxes/tests/test_preprocessing.py::test_dload_to_df_list[years0] \u001b[32mPASSED\u001b[0m\u001b[33m  [100%]\u001b[0m\n",
      "\n",
      "\u001b[33m======================== \u001b[32m9 passed\u001b[0m, \u001b[33m\u001b[1m1 warning\u001b[0m\u001b[33m in 10.41s\u001b[0m\u001b[33m =========================\u001b[0m\n",
      "black....................................................................\u001b[42mPassed\u001b[m\n",
      "flake8...................................................................\u001b[42mPassed\u001b[m\n",
      "Check JSON...........................................(no files to check)\u001b[46;30mSkipped\u001b[m\n",
      "Check Yaml...............................................................\u001b[42mPassed\u001b[m\n",
      "Check for merge conflicts................................................\u001b[42mPassed\u001b[m\n",
      "Fix End of Files.........................................................\u001b[42mPassed\u001b[m\n",
      "Trim Trailing Whitespace.................................................\u001b[42mPassed\u001b[m\n",
      "Debug Statements (Python)................................................\u001b[42mPassed\u001b[m\n",
      "Mixed line ending........................................................\u001b[42mPassed\u001b[m\n",
      "setup-cfg-fmt............................................................\u001b[42mPassed\u001b[m\n",
      "pyupgrade................................................................\u001b[42mPassed\u001b[m\n",
      "rst ``code`` is two backticks........................(no files to check)\u001b[46;30mSkipped\u001b[m\n",
      "isort....................................................................\u001b[42mPassed\u001b[m\n"
     ]
    }
   ],
   "source": [
    "!pytest -vv --disable-warnings\n",
    "!pre-commit run --all --show-diff-on-failure"
   ]
  },
  {
   "cell_type": "code",
   "execution_count": null,
   "id": "5bc04c9b-1d11-4b92-ba23-6b17aa6fb6f1",
   "metadata": {},
   "outputs": [],
   "source": []
  }
 ],
 "metadata": {
  "kernelspec": {
   "display_name": "Python 3 (ipykernel)",
   "language": "python",
   "name": "python3"
  },
  "language_info": {
   "codemirror_mode": {
    "name": "ipython",
    "version": 3
   },
   "file_extension": ".py",
   "mimetype": "text/x-python",
   "name": "python",
   "nbconvert_exporter": "python",
   "pygments_lexer": "ipython3",
   "version": "3.9.7"
  },
  "toc-autonumbering": false,
  "toc-showcode": false,
  "toc-showmarkdowntxt": false,
  "toc-showtags": false
 },
 "nbformat": 4,
 "nbformat_minor": 5
}
